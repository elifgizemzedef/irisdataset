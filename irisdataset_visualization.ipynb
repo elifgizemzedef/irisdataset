{
 "cells": [
  {
   "cell_type": "code",
   "execution_count": 1,
   "id": "5ca303d2",
   "metadata": {},
   "outputs": [],
   "source": [
    "import numpy as np\n",
    "import pandas as pd\n",
    "import matplotlib.pyplot as plt\n",
    "import seaborn as sns\n",
    "import math\n",
    "from sklearn.datasets import make_blobs\n",
    "from sklearn.datasets import load_iris\n",
    "%matplotlib inline"
   ]
  },
  {
   "cell_type": "code",
   "execution_count": 2,
   "id": "82730ea5",
   "metadata": {},
   "outputs": [],
   "source": [
    "iris = load_iris()\n",
    "df = pd.DataFrame(data= np.c_[iris['data'], iris['target']],\n",
    "                     columns= iris['feature_names'] + ['target'])"
   ]
  },
  {
   "cell_type": "code",
   "execution_count": 3,
   "id": "a256f9b5",
   "metadata": {},
   "outputs": [],
   "source": [
    "def iris_df():\n",
    "    species_map=dict(zip(range(3),iris['target_names']))\n",
    "    df['species']=[species_map[c]\n",
    "                  for c in iris['target']]\n",
    "    return df"
   ]
  },
  {
   "cell_type": "code",
   "execution_count": 4,
   "id": "3f01db64",
   "metadata": {},
   "outputs": [
    {
     "data": {
      "text/html": [
       "<div>\n",
       "<style scoped>\n",
       "    .dataframe tbody tr th:only-of-type {\n",
       "        vertical-align: middle;\n",
       "    }\n",
       "\n",
       "    .dataframe tbody tr th {\n",
       "        vertical-align: top;\n",
       "    }\n",
       "\n",
       "    .dataframe thead th {\n",
       "        text-align: right;\n",
       "    }\n",
       "</style>\n",
       "<table border=\"1\" class=\"dataframe\">\n",
       "  <thead>\n",
       "    <tr style=\"text-align: right;\">\n",
       "      <th></th>\n",
       "      <th>sepal length (cm)</th>\n",
       "      <th>sepal width (cm)</th>\n",
       "      <th>petal length (cm)</th>\n",
       "      <th>petal width (cm)</th>\n",
       "      <th>target</th>\n",
       "      <th>species</th>\n",
       "    </tr>\n",
       "  </thead>\n",
       "  <tbody>\n",
       "    <tr>\n",
       "      <th>0</th>\n",
       "      <td>5.1</td>\n",
       "      <td>3.5</td>\n",
       "      <td>1.4</td>\n",
       "      <td>0.2</td>\n",
       "      <td>0.0</td>\n",
       "      <td>setosa</td>\n",
       "    </tr>\n",
       "    <tr>\n",
       "      <th>1</th>\n",
       "      <td>4.9</td>\n",
       "      <td>3.0</td>\n",
       "      <td>1.4</td>\n",
       "      <td>0.2</td>\n",
       "      <td>0.0</td>\n",
       "      <td>setosa</td>\n",
       "    </tr>\n",
       "    <tr>\n",
       "      <th>2</th>\n",
       "      <td>4.7</td>\n",
       "      <td>3.2</td>\n",
       "      <td>1.3</td>\n",
       "      <td>0.2</td>\n",
       "      <td>0.0</td>\n",
       "      <td>setosa</td>\n",
       "    </tr>\n",
       "    <tr>\n",
       "      <th>3</th>\n",
       "      <td>4.6</td>\n",
       "      <td>3.1</td>\n",
       "      <td>1.5</td>\n",
       "      <td>0.2</td>\n",
       "      <td>0.0</td>\n",
       "      <td>setosa</td>\n",
       "    </tr>\n",
       "    <tr>\n",
       "      <th>4</th>\n",
       "      <td>5.0</td>\n",
       "      <td>3.6</td>\n",
       "      <td>1.4</td>\n",
       "      <td>0.2</td>\n",
       "      <td>0.0</td>\n",
       "      <td>setosa</td>\n",
       "    </tr>\n",
       "    <tr>\n",
       "      <th>...</th>\n",
       "      <td>...</td>\n",
       "      <td>...</td>\n",
       "      <td>...</td>\n",
       "      <td>...</td>\n",
       "      <td>...</td>\n",
       "      <td>...</td>\n",
       "    </tr>\n",
       "    <tr>\n",
       "      <th>145</th>\n",
       "      <td>6.7</td>\n",
       "      <td>3.0</td>\n",
       "      <td>5.2</td>\n",
       "      <td>2.3</td>\n",
       "      <td>2.0</td>\n",
       "      <td>virginica</td>\n",
       "    </tr>\n",
       "    <tr>\n",
       "      <th>146</th>\n",
       "      <td>6.3</td>\n",
       "      <td>2.5</td>\n",
       "      <td>5.0</td>\n",
       "      <td>1.9</td>\n",
       "      <td>2.0</td>\n",
       "      <td>virginica</td>\n",
       "    </tr>\n",
       "    <tr>\n",
       "      <th>147</th>\n",
       "      <td>6.5</td>\n",
       "      <td>3.0</td>\n",
       "      <td>5.2</td>\n",
       "      <td>2.0</td>\n",
       "      <td>2.0</td>\n",
       "      <td>virginica</td>\n",
       "    </tr>\n",
       "    <tr>\n",
       "      <th>148</th>\n",
       "      <td>6.2</td>\n",
       "      <td>3.4</td>\n",
       "      <td>5.4</td>\n",
       "      <td>2.3</td>\n",
       "      <td>2.0</td>\n",
       "      <td>virginica</td>\n",
       "    </tr>\n",
       "    <tr>\n",
       "      <th>149</th>\n",
       "      <td>5.9</td>\n",
       "      <td>3.0</td>\n",
       "      <td>5.1</td>\n",
       "      <td>1.8</td>\n",
       "      <td>2.0</td>\n",
       "      <td>virginica</td>\n",
       "    </tr>\n",
       "  </tbody>\n",
       "</table>\n",
       "<p>150 rows × 6 columns</p>\n",
       "</div>"
      ],
      "text/plain": [
       "     sepal length (cm)  sepal width (cm)  petal length (cm)  petal width (cm)  \\\n",
       "0                  5.1               3.5                1.4               0.2   \n",
       "1                  4.9               3.0                1.4               0.2   \n",
       "2                  4.7               3.2                1.3               0.2   \n",
       "3                  4.6               3.1                1.5               0.2   \n",
       "4                  5.0               3.6                1.4               0.2   \n",
       "..                 ...               ...                ...               ...   \n",
       "145                6.7               3.0                5.2               2.3   \n",
       "146                6.3               2.5                5.0               1.9   \n",
       "147                6.5               3.0                5.2               2.0   \n",
       "148                6.2               3.4                5.4               2.3   \n",
       "149                5.9               3.0                5.1               1.8   \n",
       "\n",
       "     target    species  \n",
       "0       0.0     setosa  \n",
       "1       0.0     setosa  \n",
       "2       0.0     setosa  \n",
       "3       0.0     setosa  \n",
       "4       0.0     setosa  \n",
       "..      ...        ...  \n",
       "145     2.0  virginica  \n",
       "146     2.0  virginica  \n",
       "147     2.0  virginica  \n",
       "148     2.0  virginica  \n",
       "149     2.0  virginica  \n",
       "\n",
       "[150 rows x 6 columns]"
      ]
     },
     "execution_count": 4,
     "metadata": {},
     "output_type": "execute_result"
    }
   ],
   "source": [
    "df=iris_df()\n",
    "df"
   ]
  },
  {
   "cell_type": "markdown",
   "id": "de69c5f2",
   "metadata": {},
   "source": [
    "## Question 1"
   ]
  },
  {
   "cell_type": "code",
   "execution_count": 5,
   "id": "480cb566",
   "metadata": {},
   "outputs": [
    {
     "data": {
      "image/png": "[encoded data removed]",
      "text/plain": [
       "<Figure size 432x288 with 1 Axes>"
      ]
     },
     "metadata": {
      "needs_background": "light"
     },
     "output_type": "display_data"
    }
   ],
   "source": [
    "df.plot(kind=\"scatter\",x=\"sepal length (cm)\",y=\"sepal width (cm)\",s=10)\n",
    "plt.title(\"Length vs width\")\n",
    "plt.show()"
   ]
  },
  {
   "cell_type": "markdown",
   "id": "da79ba21",
   "metadata": {},
   "source": [
    "## Question 2"
   ]
  },
  {
   "cell_type": "code",
   "execution_count": 6,
   "id": "060c4fb6",
   "metadata": {},
   "outputs": [
    {
     "data": {
      "image/png": "[encoded data removed]",
      "text/plain": [
       "<Figure size 432x288 with 1 Axes>"
      ]
     },
     "metadata": {
      "needs_background": "light"
     },
     "output_type": "display_data"
    }
   ],
   "source": [
    "plt.close()\n",
    "colors=[\"cyan\",\"#630A75\",\"red\"]\n",
    "markers=[\".\",\"*\",\"^\"]\n",
    "fig, ax=plt.subplots(1,1)\n",
    "for i , spec in enumerate(df['species'].unique()):\n",
    "    ddf=df[df['species']==spec]\n",
    "    ddf.plot(kind=\"scatter\",x=\"sepal length (cm)\",y=\"sepal width (cm)\",alpha=0.5,s=10*(i+1),label=spec,marker=markers[i],color=colors[i],ax=ax)\n",
    "plt.legend()\n",
    "plt.show()"
   ]
  },
  {
   "cell_type": "markdown",
   "id": "307c0d06",
   "metadata": {},
   "source": [
    "## Question 3"
   ]
  },
  {
   "cell_type": "code",
   "execution_count": 7,
   "id": "e20d7c26",
   "metadata": {},
   "outputs": [],
   "source": [
    "# ı get neccessary random points here and I back up to check later\n",
    "x1=np.random.uniform(5.0,7.5)\n",
    "x2=np.random.uniform(5.0,7.5)\n",
    "x3=np.random.uniform(5.0,7.5)\n",
    "y1=np.random.uniform(2.5,4.0)\n",
    "y2=np.random.uniform(2.5,4.0)\n",
    "y3=np.random.uniform(2.5,4.0)\n",
    "a1=x1\n",
    "a2=x2\n",
    "a3=x3\n",
    "b1=y1\n",
    "b2=y2\n",
    "b3=y3\n"
   ]
  },
  {
   "cell_type": "code",
   "execution_count": 8,
   "id": "ad9291fe",
   "metadata": {},
   "outputs": [
    {
     "data": {
      "image/png": "[encoded data removed]",
      "text/plain": [
       "<Figure size 432x288 with 1 Axes>"
      ]
     },
     "metadata": {
      "needs_background": "light"
     },
     "output_type": "display_data"
    }
   ],
   "source": [
    "df.plot(kind=\"scatter\",x=\"sepal length (cm)\",y=\"sepal width (cm)\",s=10,color=\"#FFAB0F\")\n",
    "plt.title(\"Length vs width\")\n",
    "# put rondom points on plot\n",
    "plt.scatter(x1,y1,s=80,marker=\"*\",color=\"#630A75\")\n",
    "plt.scatter(x2,y2,s=80,marker=\"^\",color=\"red\")\n",
    "plt.scatter(x3,y3,s=80,marker=\"+\",color=\"#112385\")\n",
    "\n",
    "plt.show()"
   ]
  },
  {
   "cell_type": "markdown",
   "id": "4f8b1013",
   "metadata": {},
   "source": [
    "## Question 4"
   ]
  },
  {
   "cell_type": "code",
   "execution_count": 9,
   "id": "25d2b0e5",
   "metadata": {},
   "outputs": [],
   "source": [
    "while(True):\n",
    "    #these are cluster lists \n",
    "    listArti=[]\n",
    "    listYildiz=[]\n",
    "    listUcgen=[]\n",
    "    for i in range(0,df.shape[0]):\n",
    "        x=((df.iloc[i,0], df.iloc[i,1]))\n",
    "        #calculate each points's distance between cluster points\n",
    "        c1=(x1,y1)\n",
    "        c2=(x2,y2)\n",
    "        c3=(x3,y3)\n",
    "        distc1=math.dist(x , c1)\n",
    "        distc2=math.dist(x , c2)\n",
    "        distc3=math.dist(x , c3)\n",
    "        # points appends their groups\n",
    "        if min(distc1,distc2,distc3)==distc1:\n",
    "            listArti.append(x)\n",
    "        elif min(distc1,distc2,distc3)==distc2:\n",
    "            listYildiz.append(x)\n",
    "        else:\n",
    "            listUcgen.append(x)\n",
    "        \n",
    "    a=0\n",
    "    b=0\n",
    "#these for loops finds average value of all points \n",
    "    for i in listArti:\n",
    "        a+=i[0]\n",
    "        b+=i[1]\n",
    "    x1 = a / len(listArti)\n",
    "    y1 = b / len(listArti)\n",
    "        \n",
    "    a=0\n",
    "    b=0\n",
    "    for i in listUcgen:\n",
    "        a+=i[0]\n",
    "        b+=i[1]\n",
    "    x3 = a / len(listUcgen)\n",
    "    y3 = b / len(listUcgen)\n",
    "        \n",
    "    a=0\n",
    "    b=0\n",
    "    for i in listYildiz:\n",
    "        a+=i[0]\n",
    "        b+=i[1]\n",
    "    x2 = a / len(listYildiz)\n",
    "    y2 = b / len(listYildiz)\n",
    "        \n",
    "        \n",
    "#these control that if cluster centers moves or not if they dont move anymore while loop ends\n",
    "    if a1==x1 and a2==x2 and a3==x3 and b1==y1 and b2==y2 and b3==y3:\n",
    "        break\n",
    "    a1=x1\n",
    "    a2=x2\n",
    "    a3=x3\n",
    "    b1=y1\n",
    "    b2=y2\n",
    "    b3=y3\n"
   ]
  },
  {
   "cell_type": "markdown",
   "id": "c7727e3b",
   "metadata": {},
   "source": [
    "## Question 4 's plot"
   ]
  },
  {
   "cell_type": "code",
   "execution_count": 10,
   "id": "b8aea1b6",
   "metadata": {},
   "outputs": [
    {
     "data": {
      "text/plain": [
       "<matplotlib.collections.PathCollection at 0x183ddec18b0>"
      ]
     },
     "execution_count": 10,
     "metadata": {},
     "output_type": "execute_result"
    },
    {
     "data": {
      "image/png": "[encoded data removed]",
      "text/plain": [
       "<Figure size 432x288 with 1 Axes>"
      ]
     },
     "metadata": {
      "needs_background": "light"
     },
     "output_type": "display_data"
    }
   ],
   "source": [
    "#first we give the color of the cluster and show it on plot\n",
    "for i in listArti:\n",
    "    plt.scatter(i[0], i[1],  s=20, color=\"cyan\", marker=\"+\")\n",
    "for i in listYildiz:\n",
    "    plt.scatter(i[0], i[1],  s=20, color=\"#630A75\", marker=\"*\")\n",
    "for i in listUcgen:\n",
    "    plt.scatter(i[0], i[1],  s=20, color=\"red\", marker=\"^\")\n",
    "plt.scatter(x1, y1, marker=\"+\", s=100, color=\"red\")\n",
    "plt.scatter(x2, y2, marker=\"*\", s=80, color=\"black\")\n",
    "plt.scatter(x3, y3, marker=\"^\", s=80, color=\"black\")"
   ]
  },
  {
   "cell_type": "markdown",
   "id": "7eb2bf84",
   "metadata": {},
   "source": [
    "## Question 5"
   ]
  },
  {
   "cell_type": "code",
   "execution_count": 11,
   "id": "935b7af0",
   "metadata": {},
   "outputs": [
    {
     "data": {
      "image/png": "[encoded data removed]",
      "text/plain": [
       "<Figure size 432x288 with 1 Axes>"
      ]
     },
     "metadata": {
      "needs_background": "light"
     },
     "output_type": "display_data"
    },
    {
     "data": {
      "image/png": "[encoded data removed]",
      "text/plain": [
       "<Figure size 432x288 with 1 Axes>"
      ]
     },
     "metadata": {
      "needs_background": "light"
     },
     "output_type": "display_data"
    }
   ],
   "source": [
    "plt.close()\n",
    "plt.close()\n",
    "plt.close()\n",
    "plt.close()\n",
    "fig, ax = plt.subplots(1, 2, figsize=(30,15))\n",
    "\n",
    "plt.close()\n",
    "plt.close()\n",
    "\n",
    "colors=[\"cyan\",\"#630A75\",\"red\"]\n",
    "markers=[\".\",\"*\",\"^\"]\n",
    "plt.subplot(1,2,1)\n",
    "plt.close()\n",
    "\n",
    "fig, ax=plt.subplots(1,1)\n",
    "\n",
    "for i , spec in enumerate(df['species'].unique()):\n",
    "    ddf=df[df['species']==spec]\n",
    "    ddf.plot(kind=\"scatter\",x=\"sepal length (cm)\",y=\"sepal width (cm)\",alpha=0.7,s=10*(i+1),label=spec,marker=markers[i],color=colors[i],ax=ax)\n",
    "plt.legend()\n",
    "plt.show()\n",
    "plt.subplot(1,2,2)\n",
    "for i in listArti:\n",
    "    plt.scatter(i[0], i[1],  s=5, color=\"cyan\")\n",
    "for i in listYildiz:\n",
    "    plt.scatter(i[0], i[1],  s=5, color=\"#630A75\")\n",
    "for i in listUcgen:\n",
    "    plt.scatter(i[0], i[1],  s=5, color=\"red\")\n",
    "plt.scatter(x1, y1, marker=\"+\", s=100, color=\"red\")\n",
    "plt.scatter(x2, y2, marker=\"*\", s=80, color=\"black\")\n",
    "plt.scatter(x3, y3, marker=\"^\", s=80, color=\"black\")\n",
    "\n",
    "\n",
    "plt.show()"
   ]
  },
  {
   "cell_type": "markdown",
   "id": "0972b6b3",
   "metadata": {},
   "source": [
    "## at first plot we see that versicolor and virginia types are interwined\n",
    "## but secont plot we see that all clusters are separate\n",
    "## so we can understand that this method of clustering may not be true all the time"
   ]
  }
 ],
 "metadata": {
  "kernelspec": {
   "display_name": "Python 3 (ipykernel)",
   "language": "python",
   "name": "python3"
  },
  "language_info": {
   "codemirror_mode": {
    "name": "ipython",
    "version": 3
   },
   "file_extension": ".py",
   "mimetype": "text/x-python",
   "name": "python",
   "nbconvert_exporter": "python",
   "pygments_lexer": "ipython3",
   "version": "3.10.8"
  }
 },
 "nbformat": 4,
 "nbformat_minor": 5
}
